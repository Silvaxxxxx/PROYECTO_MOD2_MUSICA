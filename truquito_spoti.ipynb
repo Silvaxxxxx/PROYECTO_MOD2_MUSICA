{
 "cells": [
  {
   "cell_type": "code",
   "execution_count": 2,
   "id": "6314a57e",
   "metadata": {},
   "outputs": [],
   "source": [
    "import spotipy\n",
    "from spotipy.oauth2 import SpotifyClientCredentials"
   ]
  },
  {
   "cell_type": "code",
   "execution_count": 3,
   "id": "8a18d33f",
   "metadata": {},
   "outputs": [],
   "source": [
    "CLIENT_ID = '9beba5ec7f124f4282d3625eecb0339f'\n",
    "CLIENT_SECRET = 'c6501c7f4217420095f22bef5dfed7b9'\n",
    "\n",
    "# Autenticación\n",
    "auth_manager = SpotifyClientCredentials(client_id=CLIENT_ID, client_secret=CLIENT_SECRET)\n",
    "sp = spotipy.Spotify(auth_manager=auth_manager)"
   ]
  },
  {
   "cell_type": "code",
   "execution_count": 43,
   "id": "bbc8b88d",
   "metadata": {},
   "outputs": [],
   "source": [
    "datos = sp.search(q=\"genre:metal, year:2021\", type=\"artist\", limit=50, offset=0)"
   ]
  },
  {
   "cell_type": "code",
   "execution_count": 44,
   "id": "6486c8a4",
   "metadata": {},
   "outputs": [
    {
     "data": {
      "text/plain": [
       "dict_keys(['artists'])"
      ]
     },
     "execution_count": 44,
     "metadata": {},
     "output_type": "execute_result"
    }
   ],
   "source": [
    "datos.keys()"
   ]
  },
  {
   "cell_type": "code",
   "execution_count": 48,
   "id": "4d921af0",
   "metadata": {},
   "outputs": [
    {
     "data": {
      "text/plain": [
       "dict_keys(['href', 'limit', 'next', 'offset', 'previous', 'total', 'items'])"
      ]
     },
     "execution_count": 48,
     "metadata": {},
     "output_type": "execute_result"
    }
   ],
   "source": [
    "datos[\"artists\"].keys()"
   ]
  },
  {
   "cell_type": "code",
   "execution_count": 53,
   "id": "0af22344",
   "metadata": {},
   "outputs": [
    {
     "data": {
      "text/plain": [
       "'Whitesnake'"
      ]
     },
     "execution_count": 53,
     "metadata": {},
     "output_type": "execute_result"
    }
   ],
   "source": [
    "datos[\"artists\"][\"items\"][46]['name']"
   ]
  },
  {
   "cell_type": "code",
   "execution_count": 55,
   "id": "557c878f",
   "metadata": {},
   "outputs": [
    {
     "data": {
      "text/plain": [
       "50"
      ]
     },
     "execution_count": 55,
     "metadata": {},
     "output_type": "execute_result"
    }
   ],
   "source": [
    "len(datos[\"artists\"][\"items\"])"
   ]
  },
  {
   "cell_type": "code",
   "execution_count": 13,
   "id": "ff71aed6",
   "metadata": {},
   "outputs": [
    {
     "name": "stdout",
     "output_type": "stream",
     "text": [
      "0\n",
      "50\n",
      "100\n",
      "150\n",
      "200\n",
      "250\n",
      "300\n",
      "350\n",
      "400\n",
      "450\n"
     ]
    }
   ],
   "source": [
    "for i in range(0,500, 50):\n",
    "    print(i)"
   ]
  },
  {
   "cell_type": "code",
   "execution_count": 15,
   "id": "0d47cff5",
   "metadata": {},
   "outputs": [
    {
     "name": "stdout",
     "output_type": "stream",
     "text": [
      "genre:rock, year:2020\n",
      "genre:rock, year:2021\n",
      "genre:rock, year:2022\n",
      "genre:rock, year:2023\n",
      "genre:rock, year:2024\n",
      "genre:rock, year:2025\n"
     ]
    }
   ],
   "source": [
    "for i in range(2020, 2026):\n",
    "    q=f\"genre:rock, year:{i}\"\n",
    "    print(q)"
   ]
  },
  {
   "cell_type": "code",
   "execution_count": 19,
   "id": "2a6dbf87",
   "metadata": {},
   "outputs": [
    {
     "data": {
      "text/plain": [
       "dict_keys(['album', 'artists', 'available_markets', 'disc_number', 'duration_ms', 'explicit', 'external_ids', 'external_urls', 'href', 'id', 'is_local', 'is_playable', 'name', 'popularity', 'preview_url', 'track_number', 'type', 'uri'])"
      ]
     },
     "execution_count": 19,
     "metadata": {},
     "output_type": "execute_result"
    }
   ],
   "source": [
    "datos[\"tracks\"][\"items\"][0].keys()"
   ]
  },
  {
   "cell_type": "code",
   "execution_count": 23,
   "id": "37334f7c",
   "metadata": {},
   "outputs": [
    {
     "data": {
      "text/plain": [
       "{'album_type': 'single',\n",
       " 'artists': [{'external_urls': {'spotify': 'https://open.spotify.com/artist/4TPTW3cTwUtiihgOMSQfmy'},\n",
       "   'href': 'https://api.spotify.com/v1/artists/4TPTW3cTwUtiihgOMSQfmy',\n",
       "   'id': '4TPTW3cTwUtiihgOMSQfmy',\n",
       "   'name': 'Mexican Institute Of Sound',\n",
       "   'type': 'artist',\n",
       "   'uri': 'spotify:artist:4TPTW3cTwUtiihgOMSQfmy'},\n",
       "  {'external_urls': {'spotify': 'https://open.spotify.com/artist/0K9pSmFx0kWESA9jqx8aCW'},\n",
       "   'href': 'https://api.spotify.com/v1/artists/0K9pSmFx0kWESA9jqx8aCW',\n",
       "   'id': '0K9pSmFx0kWESA9jqx8aCW',\n",
       "   'name': 'Gaby Moreno',\n",
       "   'type': 'artist',\n",
       "   'uri': 'spotify:artist:0K9pSmFx0kWESA9jqx8aCW'}],\n",
       " 'available_markets': ['ES'],\n",
       " 'external_urls': {'spotify': 'https://open.spotify.com/album/10SaVQITiDpW1SxZvMO15b'},\n",
       " 'href': 'https://api.spotify.com/v1/albums/10SaVQITiDpW1SxZvMO15b',\n",
       " 'id': '10SaVQITiDpW1SxZvMO15b',\n",
       " 'images': [{'height': 640,\n",
       "   'width': 640,\n",
       "   'url': 'https://i.scdn.co/image/ab67616d0000b273ada2e75f155b42ad8fcece44'},\n",
       "  {'height': 300,\n",
       "   'width': 300,\n",
       "   'url': 'https://i.scdn.co/image/ab67616d00001e02ada2e75f155b42ad8fcece44'},\n",
       "  {'height': 64,\n",
       "   'width': 64,\n",
       "   'url': 'https://i.scdn.co/image/ab67616d00004851ada2e75f155b42ad8fcece44'}],\n",
       " 'is_playable': True,\n",
       " 'name': 'Yemayá',\n",
       " 'release_date': '2020-06-26',\n",
       " 'release_date_precision': 'day',\n",
       " 'total_tracks': 1,\n",
       " 'type': 'album',\n",
       " 'uri': 'spotify:album:10SaVQITiDpW1SxZvMO15b'}"
      ]
     },
     "execution_count": 23,
     "metadata": {},
     "output_type": "execute_result"
    }
   ],
   "source": [
    "datos[\"tracks\"][\"items\"][0][\"album\"]"
   ]
  },
  {
   "cell_type": "code",
   "execution_count": 57,
   "id": "134983e5",
   "metadata": {},
   "outputs": [],
   "source": [
    "datos = sp.search(q=\"genre:metal, year:2021\", type=\"album\", limit=50, offset=0)"
   ]
  },
  {
   "cell_type": "code",
   "execution_count": 58,
   "id": "c3546e83",
   "metadata": {},
   "outputs": [
    {
     "data": {
      "text/plain": [
       "dict_keys(['albums'])"
      ]
     },
     "execution_count": 58,
     "metadata": {},
     "output_type": "execute_result"
    }
   ],
   "source": [
    "datos.keys()"
   ]
  },
  {
   "cell_type": "code",
   "execution_count": 63,
   "id": "de412820",
   "metadata": {},
   "outputs": [
    {
     "data": {
      "text/plain": [
       "'2rOMpH3Ky4BMH8wNOEKe3F'"
      ]
     },
     "execution_count": 63,
     "metadata": {},
     "output_type": "execute_result"
    }
   ],
   "source": [
    "datos['albums'][\"items\"][0]['id']"
   ]
  }
 ],
 "metadata": {
  "kernelspec": {
   "display_name": "base",
   "language": "python",
   "name": "python3"
  },
  "language_info": {
   "codemirror_mode": {
    "name": "ipython",
    "version": 3
   },
   "file_extension": ".py",
   "mimetype": "text/x-python",
   "name": "python",
   "nbconvert_exporter": "python",
   "pygments_lexer": "ipython3",
   "version": "3.12.7"
  }
 },
 "nbformat": 4,
 "nbformat_minor": 5
}
