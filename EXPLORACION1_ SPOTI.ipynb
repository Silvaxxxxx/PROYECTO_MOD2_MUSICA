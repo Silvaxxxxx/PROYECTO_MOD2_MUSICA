{
 "cells": [
  {
   "cell_type": "code",
   "execution_count": null,
   "id": "d6b1bb58",
   "metadata": {},
   "outputs": [],
   "source": [
    "import os \n",
    "from dotenv import load_dotenv"
   ]
  },
  {
   "cell_type": "code",
   "execution_count": null,
   "id": "c04332e3",
   "metadata": {},
   "outputs": [],
   "source": [
    "load_dotenv()"
   ]
  },
  {
   "cell_type": "code",
   "execution_count": null,
   "id": "66c8ad11",
   "metadata": {},
   "outputs": [],
   "source": [
    "client_id = os.getenv(\"client_id\")\n",
    "client_secret = os.getenv(\"client_secret\")"
   ]
  },
  {
   "cell_type": "code",
   "execution_count": null,
   "id": "6a20eb63",
   "metadata": {},
   "outputs": [],
   "source": [
    "import requests\n",
    "import base64\n",
    "\n",
    "# Configura tus credenciales\n",
    "client_id = os.getenv(\"client_id\")\n",
    "client_secret = os.getenv(\"client_secret\")\n",
    "\n",
    "# Codifica credenciales en Base64\n",
    "credentials = f\"{client_id}:{client_secret}\"\n",
    "credentials_b64 = base64.b64encode(credentials.encode()).decode()\n",
    "\n",
    "# Solicita token\n",
    "url = \"https://accounts.spotify.com/api/token\"\n",
    "headers = {\n",
    "    \"Authorization\": f\"Basic {credentials_b64}\",\n",
    "    \"Content-Type\": \"application/x-www-form-urlencoded\"\n",
    "}\n",
    "data = {\"grant_type\": \"client_credentials\"}\n",
    "\n",
    "response = requests.post(url, headers=headers, data=data)\n",
    "token = response.json()[\"access_token\"]"
   ]
  },
  {
   "cell_type": "code",
   "execution_count": null,
   "id": "5a172119",
   "metadata": {},
   "outputs": [],
   "source": [
    "from spotipy.oauth2 import SpotifyClientCredentials\n",
    "import spotipy\n",
    "\n",
    "# Configura credenciales\n",
    "sp = spotipy.Spotify(auth_manager=SpotifyClientCredentials(\n",
    "    client_id=client_id,\n",
    "    client_secret=client_secret\n",
    "))\n",
    "\n",
    "# Buscar artistas\n",
    "results = sp.search(q='bad bunny', limit=5, type='artist')\n",
    "for artist in results['artists']['items']:\n",
    "    print(artist['name'], \"- Popularidad:\", artist['popularity'])"
   ]
  },
  {
   "cell_type": "code",
   "execution_count": null,
   "id": "9eacc4e3",
   "metadata": {},
   "outputs": [],
   "source": [
    "datos = sp.search(q='genre: metal, year: 2020,', type ='track', limit=50, offset =0)"
   ]
  },
  {
   "cell_type": "code",
   "execution_count": null,
   "id": "5c4f97d1",
   "metadata": {},
   "outputs": [],
   "source": [
    "datos.keys()"
   ]
  },
  {
   "cell_type": "code",
   "execution_count": null,
   "id": "f2815fa7",
   "metadata": {},
   "outputs": [],
   "source": [
    "datos['tracks'].keys()"
   ]
  },
  {
   "cell_type": "code",
   "execution_count": null,
   "id": "0edd9a54",
   "metadata": {},
   "outputs": [],
   "source": [
    "datos['tracks']['items'][1]"
   ]
  },
  {
   "cell_type": "code",
   "execution_count": null,
   "id": "41de448c",
   "metadata": {},
   "outputs": [],
   "source": []
  },
  {
   "cell_type": "code",
   "execution_count": null,
   "id": "070f84dd",
   "metadata": {},
   "outputs": [],
   "source": []
  }
 ],
 "metadata": {
  "kernelspec": {
   "display_name": "base",
   "language": "python",
   "name": "python3"
  },
  "language_info": {
   "name": "python",
   "version": "3.12.7"
  }
 },
 "nbformat": 4,
 "nbformat_minor": 5
}
