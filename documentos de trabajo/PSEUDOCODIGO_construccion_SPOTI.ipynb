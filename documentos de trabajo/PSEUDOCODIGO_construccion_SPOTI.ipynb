{
 "cells": [
  {
   "cell_type": "code",
   "execution_count": null,
   "id": "bb173b55",
   "metadata": {},
   "outputs": [],
   "source": [
    "# VARIABLES FUERA DEL BUCLE\n",
    "\n",
    "# import spotypi\n",
    "# import requests\n",
    "\n",
    "# CLIENT_ID = '9beba5ec7f124f4282d3625eecb0339f'\n",
    "# CLIENT_SECRET = 'c6501c7f4217420095f22bef5dfed7b9'\n",
    "# genres = [\"pop\", \"rock\", \"electronic\", \"metal\"]\n",
    "# years = list(range(2000,2006)) \n",
    "\n",
    "# # # Autenticación\n",
    "# auth_manager = SpotifyClientCredentials(client_id=CLIENT_ID, client_secret=CLIENT_SECRET)\n",
    "# sp = spotipy.Spotify(auth_manager=auth_manager)"
   ]
  },
  {
   "cell_type": "code",
   "execution_count": null,
   "id": "ddcde1a2",
   "metadata": {},
   "outputs": [],
   "source": [
    "# Endpoint: GET https://api.spotify.com/v1/search\n",
    "\n",
    "# params = {\"q\" : \"genre:{genres}\", \"type\" : \"artist\", \"limit\" : 50}\n",
    "\n",
    "\n",
    "\n"
   ]
  },
  {
   "cell_type": "code",
   "execution_count": 3,
   "id": "afe466a5",
   "metadata": {},
   "outputs": [],
   "source": [
    "# VARIABLES FUERA DEL BUCLE\n",
    "\n",
    "import spotipy\n",
    "from spotipy.oauth2 import SpotifyClientCredentials\n",
    "import requests\n",
    "\n",
    "CLIENT_ID = '9beba5ec7f124f4282d3625eecb0339f'\n",
    "CLIENT_SECRET = 'c6501c7f4217420095f22bef5dfed7b9'\n",
    "genres = [\"pop\", \"rock\", \"electronic\", \"metal\"]\n",
    "years = list(range(2000,2006)) \n",
    "\n",
    "# # # Autenticación\n",
    "auth_manager = SpotifyClientCredentials(client_id=CLIENT_ID, client_secret=CLIENT_SECRET)\n",
    "sp = spotipy.Spotify(auth_manager=auth_manager)"
   ]
  },
  {
   "cell_type": "code",
   "execution_count": null,
   "id": "2fa4fb87",
   "metadata": {},
   "outputs": [],
   "source": []
  }
 ],
 "metadata": {
  "kernelspec": {
   "display_name": "base",
   "language": "python",
   "name": "python3"
  },
  "language_info": {
   "codemirror_mode": {
    "name": "ipython",
    "version": 3
   },
   "file_extension": ".py",
   "mimetype": "text/x-python",
   "name": "python",
   "nbconvert_exporter": "python",
   "pygments_lexer": "ipython3",
   "version": "3.12.7"
  }
 },
 "nbformat": 4,
 "nbformat_minor": 5
}
