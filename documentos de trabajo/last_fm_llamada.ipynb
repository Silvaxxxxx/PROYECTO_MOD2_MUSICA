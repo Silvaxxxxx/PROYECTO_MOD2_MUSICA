{
 "cells": [
  {
   "cell_type": "code",
   "execution_count": 16,
   "id": "e29e6ca1",
   "metadata": {},
   "outputs": [],
   "source": [
    "import requests\n"
   ]
  },
  {
   "cell_type": "code",
   "execution_count": 2,
   "id": "17ef1fb0",
   "metadata": {},
   "outputs": [],
   "source": [
    "api_key=\"a3b40cc57e584d08f0688739950a3f7c\"\n"
   ]
  },
  {
   "cell_type": "code",
   "execution_count": 3,
   "id": "0f15eab1",
   "metadata": {},
   "outputs": [],
   "source": [
    "endpoint= \"http://ws.audioscrobbler.com/2.0/\""
   ]
  },
  {
   "cell_type": "code",
   "execution_count": 5,
   "id": "d1c4d6d2",
   "metadata": {},
   "outputs": [],
   "source": [
    "param={\"methods\":\"album.getInfo\", \"api_key\": api_key, \"format\":\"json\"}"
   ]
  },
  {
   "cell_type": "code",
   "execution_count": 14,
   "id": "7045b83d",
   "metadata": {},
   "outputs": [],
   "source": [
    "response=requests.get(endpoint, param)"
   ]
  },
  {
   "cell_type": "code",
   "execution_count": null,
   "id": "e36db63a",
   "metadata": {},
   "outputs": [],
   "source": [
    "datos=response.json()\n",
    "print(f\"Datos extraídos: {datos}\")"
   ]
  },
  {
   "cell_type": "code",
   "execution_count": null,
   "id": "cca32614",
   "metadata": {},
   "outputs": [],
   "source": [
    "for tag in datos[\"tag\"][:5]:\n",
    "    print(f\"{tag[\"name\"]}\")"
   ]
  },
  {
   "cell_type": "code",
   "execution_count": null,
   "id": "bcc30eca",
   "metadata": {},
   "outputs": [
    {
     "name": "stdout",
     "output_type": "stream",
     "text": [
      "Datos extraídos: {'message': 'Invalid Method - No method with that name in this package', 'error': 3}\n"
     ]
    },
    {
     "ename": "KeyError",
     "evalue": "'tag'",
     "output_type": "error",
     "traceback": [
      "\u001b[31m---------------------------------------------------------------------------\u001b[39m",
      "\u001b[31mKeyError\u001b[39m                                  Traceback (most recent call last)",
      "\u001b[36mCell\u001b[39m\u001b[36m \u001b[39m\u001b[32mIn[20]\u001b[39m\u001b[32m, line 7\u001b[39m\n\u001b[32m      5\u001b[39m datos=response.json()\n\u001b[32m      6\u001b[39m \u001b[38;5;28mprint\u001b[39m(\u001b[33mf\u001b[39m\u001b[33m\"\u001b[39m\u001b[33mDatos extraídos: \u001b[39m\u001b[38;5;132;01m{\u001b[39;00mdatos\u001b[38;5;132;01m}\u001b[39;00m\u001b[33m\"\u001b[39m)\n\u001b[32m----> \u001b[39m\u001b[32m7\u001b[39m \u001b[38;5;28;01mfor\u001b[39;00m tag \u001b[38;5;129;01min\u001b[39;00m \u001b[43mdatos\u001b[49m\u001b[43m[\u001b[49m\u001b[33;43m\"\u001b[39;49m\u001b[33;43mtag\u001b[39;49m\u001b[33;43m\"\u001b[39;49m\u001b[43m]\u001b[49m[:\u001b[32m5\u001b[39m]:\n\u001b[32m      8\u001b[39m     \u001b[38;5;28mprint\u001b[39m(\u001b[33mf\u001b[39m\u001b[33m\"\u001b[39m\u001b[38;5;132;01m{\u001b[39;00mtag[\u001b[33m'\u001b[39m\u001b[33mname\u001b[39m\u001b[33m'\u001b[39m]\u001b[38;5;132;01m}\u001b[39;00m\u001b[33m\"\u001b[39m)\n",
      "\u001b[31mKeyError\u001b[39m: 'tag'"
     ]
    }
   ],
   "source": [
    "api_key=\"a3b40cc57e584d08f0688739950a3f7c\"\n",
    "endpoint= \"http://ws.audioscrobbler.com/2.0/\"\n",
    "param={\"methods\":\"album.getInfo\", \"api_key\": api_key, \"format\":\"json\"}\n",
    "response=requests.get(endpoint, param=param)\n",
    "datos=response.json()\n",
    "print(f\"Datos extraídos: {datos}\")\n",
    "for tag in datos[\"tag\"][:5]:\n",
    "    print(f\"{tag['name']}\")"
   ]
  },
  {
   "cell_type": "code",
   "execution_count": null,
   "id": "0625a3be",
   "metadata": {},
   "outputs": [],
   "source": []
  },
  {
   "cell_type": "code",
   "execution_count": null,
   "id": "17598082",
   "metadata": {},
   "outputs": [],
   "source": []
  },
  {
   "cell_type": "code",
   "execution_count": null,
   "id": "029bd021",
   "metadata": {},
   "outputs": [],
   "source": []
  },
  {
   "cell_type": "code",
   "execution_count": null,
   "id": "cb9f000d",
   "metadata": {},
   "outputs": [],
   "source": []
  },
  {
   "cell_type": "code",
   "execution_count": null,
   "id": "580555cb",
   "metadata": {},
   "outputs": [],
   "source": []
  },
  {
   "cell_type": "code",
   "execution_count": null,
   "id": "5e5b70c0",
   "metadata": {},
   "outputs": [],
   "source": []
  }
 ],
 "metadata": {
  "kernelspec": {
   "display_name": "Python 3",
   "language": "python",
   "name": "python3"
  },
  "language_info": {
   "codemirror_mode": {
    "name": "ipython",
    "version": 3
   },
   "file_extension": ".py",
   "mimetype": "text/x-python",
   "name": "python",
   "nbconvert_exporter": "python",
   "pygments_lexer": "ipython3",
   "version": "3.11.9"
  }
 },
 "nbformat": 4,
 "nbformat_minor": 5
}
