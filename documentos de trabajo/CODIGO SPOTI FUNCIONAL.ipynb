{
 "cells": [
  {
   "cell_type": "code",
   "execution_count": 1,
   "id": "c0df4ff9",
   "metadata": {},
   "outputs": [],
   "source": [
    "import os \n",
    "from dotenv import load_dotenv"
   ]
  },
  {
   "cell_type": "code",
   "execution_count": 2,
   "id": "107b3aba",
   "metadata": {},
   "outputs": [
    {
     "data": {
      "text/plain": [
       "True"
      ]
     },
     "execution_count": 2,
     "metadata": {},
     "output_type": "execute_result"
    }
   ],
   "source": [
    "load_dotenv()"
   ]
  },
  {
   "cell_type": "code",
   "execution_count": null,
   "id": "1db2e18c",
   "metadata": {},
   "outputs": [],
   "source": [
    "client_id = os.getenv(\"client_id\")\n",
    "client_secret = os.getenv(\"client_secret\")"
   ]
  },
  {
   "cell_type": "code",
   "execution_count": 4,
   "id": "6ebb5fb4",
   "metadata": {},
   "outputs": [
    {
     "name": "stderr",
     "output_type": "stream",
     "text": [
      "Couldn't decode JSON from cache at: .cache\n"
     ]
    },
    {
     "name": "stdout",
     "output_type": "stream",
     "text": [
      "Extrayendo datos de Spotify...\n",
      "Procesando género: pop\n",
      "  Año: 2010\n",
      "  Año: 2011\n",
      "  Año: 2012\n",
      "  Año: 2013\n",
      "  Año: 2014\n",
      "  Año: 2015\n",
      "  Año: 2016\n",
      "Procesando género: rock\n",
      "  Año: 2010\n",
      "  Año: 2011\n",
      "  Año: 2012\n",
      "  Año: 2013\n",
      "  Año: 2014\n",
      "  Año: 2015\n",
      "  Año: 2016\n",
      "Procesando género: hip-hop\n",
      "  Año: 2010\n",
      "  Año: 2011\n",
      "  Año: 2012\n",
      "  Año: 2013\n",
      "  Año: 2014\n",
      "  Año: 2015\n",
      "  Año: 2016\n",
      "Procesando género: electronic\n",
      "  Año: 2010\n",
      "  Año: 2011\n",
      "  Año: 2012\n",
      "  Año: 2013\n",
      "  Año: 2014\n",
      "  Año: 2015\n",
      "  Año: 2016\n",
      "\n",
      "Guardando 2802 elementos en CSV...\n",
      "¡Extracción completada!\n",
      "Total de elementos: 2802\n",
      "Canciones: 2800\n",
      "Álbumes: 2\n",
      "\n",
      "Por género:\n",
      "  pop: 700\n",
      "  rock: 702\n",
      "  hip-hop: 700\n",
      "  electronic: 700\n"
     ]
    }
   ],
   "source": [
    "import spotipy\n",
    "from spotipy.oauth2 import SpotifyClientCredentials\n",
    "import csv\n",
    "import requests\n",
    "\n",
    "# Configuración\n",
    "client_id = os.getenv(\"client_id\")\n",
    "client_secret = os.getenv(\"client_secret\")\n",
    "\n",
    "# Conectar a Spotify\n",
    "client_credentials_manager = SpotifyClientCredentials(client_id=client_id, client_secret=client_secret)\n",
    "sp = spotipy.Spotify(client_credentials_manager=client_credentials_manager)\n",
    "\n",
    "# Configuración del proyecto\n",
    "generos = ['pop', 'rock', 'hip-hop', 'electronic']\n",
    "años = [2010, 2011, 2012, 2013, 2014, 2015, 2016]\n",
    "datos = []\n",
    "\n",
    "print(\"Extrayendo datos de Spotify...\")\n",
    "\n",
    "# Buscar canciones y álbumes\n",
    "for genero in generos:\n",
    "    print(f\"Procesando género: {genero}\")\n",
    "    \n",
    "    for año in años:\n",
    "        print(f\"  Año: {año}\")\n",
    "\n",
    "        for o in range (1,101,50):\n",
    "            \n",
    "        \n",
    "            # Buscar canciones\n",
    "            try:\n",
    "                resultados = sp.search(q=f'genre:{genero} year:{año}', type='track', limit=50, offset=o)\n",
    "                \n",
    "                for cancion in resultados['tracks']['items']:\n",
    "                    if cancion['album']['release_date']:\n",
    "                        año_lanzamiento = int(cancion['album']['release_date'][:4])\n",
    "                        \n",
    "                        # Solo guardar si está en nuestro rango\n",
    "                        if año_lanzamiento in años:\n",
    "                            datos.append({\n",
    "                                'artista': cancion['artists'][0]['name'],\n",
    "                                'genero_musical': genero,\n",
    "                                'tipo': 'cancion',\n",
    "                                'nombre': cancion['name'],\n",
    "                                'año_lanzamiento': año_lanzamiento,\n",
    "                                'id': cancion['id']\n",
    "                            })\n",
    "            except:\n",
    "                print(f\"    Error buscando canciones para {genero} {año}\")\n",
    "            \n",
    "            # Buscar álbumes\n",
    "            try:\n",
    "                resultados = sp.search(q=f'genre:{genero} year:{año}', type='album', limit=50, offset=o)\n",
    "                \n",
    "                for album in resultados['albums']['items']:\n",
    "                    if album['release_date']:\n",
    "                        año_lanzamiento = int(album['release_date'][:4])\n",
    "                        \n",
    "                        # Solo guardar si está en nuestro rango\n",
    "                        if año_lanzamiento in años:\n",
    "                            datos.append({\n",
    "                                'artista': album['artists'][0]['name'],\n",
    "                                'genero_musical': genero,\n",
    "                                'tipo': 'album',\n",
    "                                'nombre': album['name'],\n",
    "                                'año_lanzamiento': año_lanzamiento,\n",
    "                                'id': album['id']\n",
    "                            })\n",
    "            except:\n",
    "                print(f\"    Error buscando álbumes para {genero} {año}\")\n",
    "\n",
    "# Guardar en CSV\n",
    "print(f\"\\nGuardando {len(datos)} elementos en CSV...\")\n",
    "\n",
    "with open('spotify_datos.csv', 'w', newline='', encoding='utf-8') as archivo:\n",
    "    writer = csv.DictWriter(archivo, fieldnames=['artista', 'genero_musical', 'tipo', 'nombre', 'año_lanzamiento', 'id'])\n",
    "    writer.writeheader()\n",
    "    writer.writerows(datos)\n",
    "\n",
    "print(\"¡Extracción completada!\")\n",
    "print(f\"Total de elementos: {len(datos)}\")\n",
    "\n",
    "# Mostrar estadísticas básicas\n",
    "canciones = sum(1 for item in datos if item['tipo'] == 'cancion')\n",
    "albumes = sum(1 for item in datos if item['tipo'] == 'album')\n",
    "\n",
    "print(f\"Canciones: {canciones}\")\n",
    "print(f\"Álbumes: {albumes}\")\n",
    "\n",
    "print(\"\\nPor género:\")\n",
    "for genero in generos:\n",
    "    count = sum(1 for item in datos if item['genero_musical'] == genero)\n",
    "    print(f\"  {genero}: {count}\")"
   ]
  }
 ],
 "metadata": {
  "kernelspec": {
   "display_name": "base",
   "language": "python",
   "name": "python3"
  },
  "language_info": {
   "codemirror_mode": {
    "name": "ipython",
    "version": 3
   },
   "file_extension": ".py",
   "mimetype": "text/x-python",
   "name": "python",
   "nbconvert_exporter": "python",
   "pygments_lexer": "ipython3",
   "version": "3.12.7"
  }
 },
 "nbformat": 4,
 "nbformat_minor": 5
}
