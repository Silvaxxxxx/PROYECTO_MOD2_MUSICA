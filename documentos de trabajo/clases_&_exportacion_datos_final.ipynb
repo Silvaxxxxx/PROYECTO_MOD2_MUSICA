{
 "cells": [
  {
   "cell_type": "code",
   "execution_count": null,
   "id": "89d0cfc5",
   "metadata": {},
   "outputs": [],
   "source": [
    "import spotipy\n",
    "from spotipy.oauth2 import SpotifyClientCredentials\n",
    "import csv\n",
    "import requests\n",
    "import pandas as pd\n",
    "import mysql.connector\n",
    "from mysql.connector import errorcode\n",
    "import re # necesario para la siguiente línea de código: bio_limpia = re.sub('<[^<]+?>', '', bio_content).strip() if bio_content else '' (quita las etiquetas HTML)"
   ]
  },
  {
   "cell_type": "code",
   "execution_count": 8,
   "id": "4f55f59e",
   "metadata": {},
   "outputs": [
    {
     "name": "stdout",
     "output_type": "stream",
     "text": [
      "✅ Guardado: spotify_datos.csv (800 canciones)\n",
      "✅ Guardado: lastfm_datos.csv (615 artistas)\n"
     ]
    }
   ],
   "source": [
    "# Spotify\n",
    "CLIENT_ID = '9189e74191a848bf82c60efbf06229c6'\n",
    "CLIENT_SECRET = '36c5b1edfa3744e7ac992361fa2b5b02'\n",
    "\n",
    "sp = spotipy.Spotify(auth_manager=SpotifyClientCredentials(\n",
    "    client_id=CLIENT_ID,\n",
    "    client_secret=CLIENT_SECRET\n",
    "))\n",
    "\n",
    "generos = ['pop', 'metal', 'reggaeton', 'rap']\n",
    "años = [2015, 2016]\n",
    "\n",
    "datos_spotify = []\n",
    "\n",
    "for genero in generos:\n",
    "    for ano in años:\n",
    "        for offset in range(0, 100, 50):\n",
    "            resultados = sp.search(q=f'genre:\"{genero}\" year:{ano}',\n",
    "                                   type='track',\n",
    "                                   limit=50,\n",
    "                                   offset=offset)\n",
    "            for cancion in resultados['tracks']['items']:\n",
    "                datos_spotify.append({\n",
    "                    'artista': cancion['artists'][0]['name'],\n",
    "                    'genero_musical': genero,\n",
    "                    'nombre': cancion['name'],\n",
    "                    'ano_lanzamiento': cancion['album']['release_date'][:4],\n",
    "                    'id': cancion['id']\n",
    "                })\n",
    "\n",
    "with open('spotify_datos.csv', 'w', newline='', encoding='utf-8') as f:\n",
    "    writer = csv.DictWriter(f, fieldnames=['artista', 'genero_musical', 'nombre', 'ano_lanzamiento', 'id'])\n",
    "    writer.writeheader()\n",
    "    writer.writerows(datos_spotify)\n",
    "\n",
    "print(f\"✅ Guardado: spotify_datos.csv ({len(datos_spotify)} canciones)\")\n",
    "\n",
    "# Last.fm\n",
    "API_KEY_LASTFM = '472626d71b58f9fbdd11821189cb8716'\n",
    "BASE_URL = \"http://ws.audioscrobbler.com/2.0/\"\n",
    "\n",
    "df = pd.read_csv('spotify_datos.csv')\n",
    "artistas_unicos = list(set(df['artista'].tolist()))\n",
    "\n",
    "datos_lastfm = []\n",
    "\n",
    "for artista in artistas_unicos:\n",
    "    params = {\n",
    "        \"method\": \"artist.getInfo\",\n",
    "        \"artist\": artista,\n",
    "        \"api_key\": API_KEY_LASTFM,\n",
    "        \"format\": \"json\",\n",
    "        \"lang\": \"es\"\n",
    "    }\n",
    "    resp = requests.get(BASE_URL, params=params).json()\n",
    "    if \"artist\" in resp:\n",
    "        bio_content = resp['artist'].get('bio', {}).get('content', '')\n",
    "        bio_limpia = re.sub('<[^<]+?>', '', bio_content).strip() if bio_content else ''\n",
    "        stats = resp['artist'].get('stats', {})\n",
    "        similares = resp['artist'].get('similar', {}).get('artist', [])\n",
    "        similares_nombres = [sim.get('name', '') for sim in similares]\n",
    "        similares_match = [f\"{float(sim.get('match', 0)):.2f}\" for sim in similares]\n",
    "        datos_lastfm.append({\n",
    "            'artist': artista,\n",
    "            'biografia': bio_limpia,\n",
    "            'playcount': stats.get('playcount', 0),\n",
    "            'oyentes': stats.get('listeners', 0),\n",
    "            'similares': ', '.join(similares_nombres),\n",
    "            'similares_match': ', '.join(similares_match)\n",
    "        })\n",
    "\n",
    "with open('lastfm_datos.csv', 'w', newline='', encoding='utf-8') as f:\n",
    "    writer = csv.DictWriter(f, fieldnames=['artist', 'biografia', 'playcount', 'oyentes', 'similares', 'similares_match'])\n",
    "    writer.writeheader()\n",
    "    writer.writerows(datos_lastfm)\n",
    "\n",
    "print(f\"✅ Guardado: lastfm_datos.csv ({len(datos_lastfm)} artistas)\")"
   ]
  },
  {
   "cell_type": "code",
   "execution_count": 30,
   "id": "a767771b",
   "metadata": {},
   "outputs": [],
   "source": [
    "#print(json.dumps(resp, indent=2))"
   ]
  },
  {
   "cell_type": "code",
   "execution_count": 9,
   "id": "bd547d54",
   "metadata": {},
   "outputs": [
    {
     "name": "stdout",
     "output_type": "stream",
     "text": [
      "<mysql.connector.connection.MySQLConnection object at 0x000002A270FCF890>\n"
     ]
    }
   ],
   "source": [
    "# Conexión Python-MySQL.\n",
    "cnx = mysql.connector.connect(\n",
    "    user='root',\n",
    "    password='AlumnaAdalab',\n",
    "    host='127.0.0.1',\n",
    "    database='proyecto_grupal_mod_2'\n",
    ")\n",
    "\n",
    "print(cnx) # Muestra la conexión."
   ]
  },
  {
   "cell_type": "code",
   "execution_count": 10,
   "id": "e26e8738",
   "metadata": {},
   "outputs": [
    {
     "name": "stdout",
     "output_type": "stream",
     "text": [
      "Base de datos activa: ('proyecto_grupal_mod_2',)\n"
     ]
    }
   ],
   "source": [
    "mycursor = cnx.cursor()\n",
    "mycursor.execute(\"SELECT DATABASE();\")\n",
    "db_actual = mycursor.fetchone()\n",
    "print(\"Base de datos activa:\", db_actual)"
   ]
  },
  {
   "cell_type": "code",
   "execution_count": 11,
   "id": "5f579dd3",
   "metadata": {},
   "outputs": [],
   "source": [
    "df_spotify = pd.read_csv('spotify_datos.csv')\n",
    "df_lastfm = pd.read_csv('lastfm_datos.csv')"
   ]
  },
  {
   "cell_type": "code",
   "execution_count": 12,
   "id": "7874e393",
   "metadata": {},
   "outputs": [
    {
     "name": "stdout",
     "output_type": "stream",
     "text": [
      "🎤 Datos insertados/actualizados en `artistas` correctamente\n",
      "🎵 Datos insertados en `canciones` correctamente\n",
      "✅ Datos insertados.\n"
     ]
    }
   ],
   "source": [
    "# iniciamos el cursor                               \n",
    "mycursor = cnx.cursor()\n",
    "# Lastfm_datos\n",
    "with open('lastfm_datos.csv', 'r', encoding='utf-8') as archivo_csv:\n",
    "    reader = csv.DictReader(archivo_csv)\n",
    "    for fila in reader:\n",
    "        sql = \"\"\"\n",
    "            INSERT INTO artistas (nombre, biografia, playcount, oyentes, similares, similares_match_score)\n",
    "            VALUES (%s, %s, %s, %s, %s, %s)\n",
    "            ON DUPLICATE KEY UPDATE\n",
    "                biografia = VALUES(biografia),\n",
    "                playcount = VALUES(playcount),\n",
    "                oyentes = VALUES(oyentes),\n",
    "                similares = VALUES(similares),\n",
    "                similares_match_score=VALUES(similares_match_score)\n",
    "        \"\"\"\n",
    "        valores = (\n",
    "            fila['artist'],\n",
    "            fila['biografia'],\n",
    "            int(fila['playcount']),\n",
    "            int(fila['oyentes']),\n",
    "            fila.get('similares', ''),\n",
    "            fila.get('similares_match', '')\n",
    "        )\n",
    "        mycursor.execute(sql, valores)\n",
    "\n",
    "print(\"🎤 Datos insertados/actualizados en `artistas` correctamente\")\n",
    "\n",
    "# Spotify_datos\n",
    "with open('spotify_datos.csv', 'r', encoding='utf-8') as archivo_csv:\n",
    "    reader = csv.DictReader(archivo_csv)\n",
    "    for fila in reader:\n",
    "        # Buscar id_artista correspondiente\n",
    "        mycursor.execute(\n",
    "            \"SELECT id_artista FROM artistas WHERE nombre = %s\",\n",
    "            (fila['artista'],)\n",
    "        )\n",
    "        resultado = mycursor.fetchone()\n",
    "        id_artista = resultado[0] if resultado else None\n",
    "\n",
    "        sql = \"\"\"\n",
    "            INSERT INTO canciones (nombre, artista, genero_musical, tipo, año_lanzamiento, id_spotify, id_artista)\n",
    "            VALUES (%s, %s, %s, %s, %s, %s, %s)\n",
    "        \"\"\"\n",
    "        valores = (\n",
    "            fila['nombre'],\n",
    "            fila['artista'],\n",
    "            fila['genero_musical'],\n",
    "            fila['genero_musical'],\n",
    "            int(fila['ano_lanzamiento']),\n",
    "            fila['id'],\n",
    "            id_artista  # Puede ser NULL si no se encuentra\n",
    "        )\n",
    "        mycursor.execute(sql, valores)\n",
    "\n",
    "print(\"🎵 Datos insertados en `canciones` correctamente\")\n",
    "\n",
    "cnx.commit()\n",
    "\n",
    "# Guardar cambios y cerrar\n",
    "# cnx.commit()\n",
    "mycursor.close()\n",
    "print(\"✅ Datos insertados.\")\n",
    "\n",
    "\n"
   ]
  },
  {
   "cell_type": "code",
   "execution_count": null,
   "id": "b3ca3e89",
   "metadata": {},
   "outputs": [],
   "source": []
  }
 ],
 "metadata": {
  "kernelspec": {
   "display_name": "Python 3",
   "language": "python",
   "name": "python3"
  },
  "language_info": {
   "codemirror_mode": {
    "name": "ipython",
    "version": 3
   },
   "file_extension": ".py",
   "mimetype": "text/x-python",
   "name": "python",
   "nbconvert_exporter": "python",
   "pygments_lexer": "ipython3",
   "version": "3.11.9"
  }
 },
 "nbformat": 4,
 "nbformat_minor": 5
}
